{
 "cells": [
  {
   "cell_type": "code",
   "execution_count": 3,
   "id": "3d7bcd96",
   "metadata": {},
   "outputs": [
    {
     "name": "stdout",
     "output_type": "stream",
     "text": [
      "Test file\r\n"
     ]
    }
   ],
   "source": [
    "#displays the file\n",
    "!cat test.txt "
   ]
  },
  {
   "cell_type": "code",
   "execution_count": 4,
   "id": "c1c5f5f1",
   "metadata": {},
   "outputs": [],
   "source": [
    "!touch sample.txt"
   ]
  },
  {
   "cell_type": "code",
   "execution_count": null,
   "id": "551d2693",
   "metadata": {},
   "outputs": [],
   "source": []
  },
  {
   "cell_type": "code",
   "execution_count": null,
   "id": "e9a63288",
   "metadata": {},
   "outputs": [],
   "source": []
  }
 ],
 "metadata": {
  "kernelspec": {
   "display_name": "Python 3",
   "language": "python",
   "name": "python3"
  },
  "language_info": {
   "codemirror_mode": {
    "name": "ipython",
    "version": 3
   },
   "file_extension": ".py",
   "mimetype": "text/x-python",
   "name": "python",
   "nbconvert_exporter": "python",
   "pygments_lexer": "ipython3",
   "version": "3.8.8"
  }
 },
 "nbformat": 4,
 "nbformat_minor": 5
}
