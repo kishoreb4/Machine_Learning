{
 "cells": [
  {
   "cell_type": "code",
   "execution_count": 3,
   "id": "4d3b0487",
   "metadata": {},
   "outputs": [
    {
     "name": "stdout",
     "output_type": "stream",
     "text": [
      "Collecting pulp\n",
      "  Downloading PuLP-2.6.0-py3-none-any.whl (14.2 MB)\n",
      "\u001b[K     |████████████████████████████████| 14.2 MB 16.6 MB/s eta 0:00:01\n",
      "\u001b[?25hInstalling collected packages: pulp\n",
      "Successfully installed pulp-2.6.0\n"
     ]
    }
   ],
   "source": [
    "!pip install pulp"
   ]
  },
  {
   "cell_type": "code",
   "execution_count": 4,
   "id": "2c88ac58",
   "metadata": {},
   "outputs": [
    {
     "name": "stdout",
     "output_type": "stream",
     "text": [
      "\u001b[31mERROR: Could not find a version that satisfies the requirement glpk-utils\u001b[0m\r\n",
      "\u001b[31mERROR: No matching distribution found for glpk-utils\u001b[0m\r\n"
     ]
    }
   ],
   "source": [
    "!pip install glpk-utils"
   ]
  },
  {
   "cell_type": "code",
   "execution_count": 16,
   "id": "dedcf49f",
   "metadata": {},
   "outputs": [],
   "source": [
    "from pulp import *\n",
    "import os\n",
    "import pandas as pd"
   ]
  },
  {
   "cell_type": "code",
   "execution_count": 65,
   "id": "e6dc510b",
   "metadata": {},
   "outputs": [],
   "source": [
    "df = pd.read_excel(\"Datasets/diet - medium.xls\", nrows=17)"
   ]
  },
  {
   "cell_type": "code",
   "execution_count": 66,
   "id": "512ef3d4",
   "metadata": {},
   "outputs": [
    {
     "data": {
      "text/html": [
       "<div>\n",
       "<style scoped>\n",
       "    .dataframe tbody tr th:only-of-type {\n",
       "        vertical-align: middle;\n",
       "    }\n",
       "\n",
       "    .dataframe tbody tr th {\n",
       "        vertical-align: top;\n",
       "    }\n",
       "\n",
       "    .dataframe thead th {\n",
       "        text-align: right;\n",
       "    }\n",
       "</style>\n",
       "<table border=\"1\" class=\"dataframe\">\n",
       "  <thead>\n",
       "    <tr style=\"text-align: right;\">\n",
       "      <th></th>\n",
       "      <th>Foods</th>\n",
       "      <th>Price/Serving</th>\n",
       "      <th>Serving Size</th>\n",
       "      <th>Calories</th>\n",
       "      <th>Cholesterol (mg)</th>\n",
       "      <th>Total_Fat (g)</th>\n",
       "      <th>Sodium (mg)</th>\n",
       "      <th>Carbohydrates (g)</th>\n",
       "      <th>Dietary_Fiber (g)</th>\n",
       "      <th>Protein (g)</th>\n",
       "      <th>Vit_A (IU)</th>\n",
       "      <th>Vit_C (IU)</th>\n",
       "      <th>Calcium (mg)</th>\n",
       "      <th>Iron (mg)</th>\n",
       "    </tr>\n",
       "  </thead>\n",
       "  <tbody>\n",
       "    <tr>\n",
       "      <th>0</th>\n",
       "      <td>Frozen Broccoli</td>\n",
       "      <td>0.48</td>\n",
       "      <td>10 Oz Pkg</td>\n",
       "      <td>73.8</td>\n",
       "      <td>0.0</td>\n",
       "      <td>0.8</td>\n",
       "      <td>68.2</td>\n",
       "      <td>13.6</td>\n",
       "      <td>8.5</td>\n",
       "      <td>8.0</td>\n",
       "      <td>5867.4</td>\n",
       "      <td>160.2</td>\n",
       "      <td>159.0</td>\n",
       "      <td>2.3</td>\n",
       "    </tr>\n",
       "    <tr>\n",
       "      <th>1</th>\n",
       "      <td>Frozen Corn</td>\n",
       "      <td>0.54</td>\n",
       "      <td>1/2 Cup</td>\n",
       "      <td>72.2</td>\n",
       "      <td>0.0</td>\n",
       "      <td>0.6</td>\n",
       "      <td>2.5</td>\n",
       "      <td>17.1</td>\n",
       "      <td>2.0</td>\n",
       "      <td>2.5</td>\n",
       "      <td>106.6</td>\n",
       "      <td>5.2</td>\n",
       "      <td>3.3</td>\n",
       "      <td>0.3</td>\n",
       "    </tr>\n",
       "    <tr>\n",
       "      <th>2</th>\n",
       "      <td>Raw Lettuce Iceberg</td>\n",
       "      <td>0.06</td>\n",
       "      <td>1 Leaf</td>\n",
       "      <td>2.6</td>\n",
       "      <td>0.0</td>\n",
       "      <td>0.0</td>\n",
       "      <td>1.8</td>\n",
       "      <td>0.4</td>\n",
       "      <td>0.3</td>\n",
       "      <td>0.2</td>\n",
       "      <td>66.0</td>\n",
       "      <td>0.8</td>\n",
       "      <td>3.8</td>\n",
       "      <td>0.1</td>\n",
       "    </tr>\n",
       "    <tr>\n",
       "      <th>3</th>\n",
       "      <td>Baked Potatoes</td>\n",
       "      <td>0.18</td>\n",
       "      <td>1/2 Cup</td>\n",
       "      <td>171.5</td>\n",
       "      <td>0.0</td>\n",
       "      <td>0.2</td>\n",
       "      <td>15.2</td>\n",
       "      <td>39.9</td>\n",
       "      <td>3.2</td>\n",
       "      <td>3.7</td>\n",
       "      <td>0.0</td>\n",
       "      <td>15.6</td>\n",
       "      <td>22.7</td>\n",
       "      <td>4.3</td>\n",
       "    </tr>\n",
       "    <tr>\n",
       "      <th>4</th>\n",
       "      <td>Tofu</td>\n",
       "      <td>0.93</td>\n",
       "      <td>1/4 block</td>\n",
       "      <td>88.2</td>\n",
       "      <td>0.0</td>\n",
       "      <td>5.5</td>\n",
       "      <td>8.1</td>\n",
       "      <td>2.2</td>\n",
       "      <td>1.4</td>\n",
       "      <td>9.4</td>\n",
       "      <td>98.6</td>\n",
       "      <td>0.1</td>\n",
       "      <td>121.8</td>\n",
       "      <td>6.2</td>\n",
       "    </tr>\n",
       "  </tbody>\n",
       "</table>\n",
       "</div>"
      ],
      "text/plain": [
       "                 Foods  Price/Serving Serving Size  Calories  \\\n",
       "0      Frozen Broccoli           0.48    10 Oz Pkg      73.8   \n",
       "1          Frozen Corn           0.54      1/2 Cup      72.2   \n",
       "2  Raw Lettuce Iceberg           0.06       1 Leaf       2.6   \n",
       "3       Baked Potatoes           0.18      1/2 Cup     171.5   \n",
       "4                 Tofu           0.93    1/4 block      88.2   \n",
       "\n",
       "   Cholesterol (mg)  Total_Fat (g)  Sodium (mg)  Carbohydrates (g)  \\\n",
       "0               0.0            0.8         68.2               13.6   \n",
       "1               0.0            0.6          2.5               17.1   \n",
       "2               0.0            0.0          1.8                0.4   \n",
       "3               0.0            0.2         15.2               39.9   \n",
       "4               0.0            5.5          8.1                2.2   \n",
       "\n",
       "   Dietary_Fiber (g)  Protein (g)  Vit_A (IU)  Vit_C (IU)  Calcium (mg)  \\\n",
       "0                8.5          8.0      5867.4       160.2         159.0   \n",
       "1                2.0          2.5       106.6         5.2           3.3   \n",
       "2                0.3          0.2        66.0         0.8           3.8   \n",
       "3                3.2          3.7         0.0        15.6          22.7   \n",
       "4                1.4          9.4        98.6         0.1         121.8   \n",
       "\n",
       "   Iron (mg)  \n",
       "0        2.3  \n",
       "1        0.3  \n",
       "2        0.1  \n",
       "3        4.3  \n",
       "4        6.2  "
      ]
     },
     "execution_count": 66,
     "metadata": {},
     "output_type": "execute_result"
    }
   ],
   "source": [
    "df.head()"
   ]
  },
  {
   "cell_type": "code",
   "execution_count": 97,
   "id": "9741eedf",
   "metadata": {},
   "outputs": [],
   "source": [
    "prob = LpProblem(\"Simple_Diet_Problem\", LpMinimize)"
   ]
  },
  {
   "cell_type": "markdown",
   "id": "04fd2097",
   "metadata": {},
   "source": [
    "### Create a list of food items from the dataset"
   ]
  },
  {
   "cell_type": "code",
   "execution_count": 98,
   "id": "d545dc3e",
   "metadata": {},
   "outputs": [],
   "source": [
    "food_items = list(df['Foods'])"
   ]
  },
  {
   "cell_type": "code",
   "execution_count": 99,
   "id": "386745cd",
   "metadata": {},
   "outputs": [
    {
     "name": "stdout",
     "output_type": "stream",
     "text": [
      "So, the food items to consider, are\n",
      "----------------------------------------------------------------------------------------------------\n",
      "Frozen Broccoli, Frozen Corn, Raw Lettuce Iceberg,  Baked Potatoes, Tofu, Roasted Chicken, Spaghetti W/ Sauce, Raw Apple, Banana, Wheat Bread, White Bread, Oatmeal Cookies, Apple Pie, Scrambled Eggs, Turkey Bologna, Beef Frankfurter, Chocolate Chip Cookies, "
     ]
    }
   ],
   "source": [
    "print (\"So, the food items to consider, are\\n\"+\"-\"*100)\n",
    "for f in food_items:\n",
    "    print (f, end=', ')"
   ]
  },
  {
   "cell_type": "markdown",
   "id": "c15f0a2c",
   "metadata": {},
   "source": [
    "### Create a dictionary of costs for all food items\n"
   ]
  },
  {
   "cell_type": "code",
   "execution_count": 100,
   "id": "43afe65d",
   "metadata": {},
   "outputs": [],
   "source": [
    "costs = dict(zip(food_items,df['Price/Serving']))"
   ]
  },
  {
   "cell_type": "code",
   "execution_count": 101,
   "id": "c72ee7a0",
   "metadata": {},
   "outputs": [
    {
     "name": "stdout",
     "output_type": "stream",
     "text": [
      "('Frozen Broccoli', 0.48)\n",
      "('Frozen Corn', 0.54)\n",
      "('Raw Lettuce Iceberg', 0.06)\n",
      "(' Baked Potatoes', 0.18)\n",
      "('Tofu', 0.9299999999999999)\n",
      "('Roasted Chicken', 2.52)\n",
      "('Spaghetti W/ Sauce', 2.34)\n",
      "('Raw Apple', 0.72)\n",
      "('Banana', 0.44999999999999996)\n",
      "('Wheat Bread', 0.15000000000000002)\n",
      "('White Bread', 0.18)\n",
      "('Oatmeal Cookies', 0.27)\n",
      "('Apple Pie', 0.48)\n",
      "('Scrambled Eggs', 0.33)\n",
      "('Turkey Bologna', 0.44999999999999996)\n",
      "('Beef Frankfurter', 0.81)\n",
      "('Chocolate Chip Cookies', 0.09)\n"
     ]
    }
   ],
   "source": [
    "for i in zip(food_items,df['Price/Serving']):\n",
    "    print (i)"
   ]
  },
  {
   "cell_type": "code",
   "execution_count": 102,
   "id": "78b7491c",
   "metadata": {},
   "outputs": [
    {
     "data": {
      "text/plain": [
       "({'Frozen Broccoli': 0.48,\n",
       "  'Frozen Corn': 0.54,\n",
       "  'Raw Lettuce Iceberg': 0.06,\n",
       "  ' Baked Potatoes': 0.18,\n",
       "  'Tofu': 0.9299999999999999,\n",
       "  'Roasted Chicken': 2.52,\n",
       "  'Spaghetti W/ Sauce': 2.34,\n",
       "  'Raw Apple': 0.72,\n",
       "  'Banana': 0.44999999999999996,\n",
       "  'Wheat Bread': 0.15000000000000002,\n",
       "  'White Bread': 0.18,\n",
       "  'Oatmeal Cookies': 0.27,\n",
       "  'Apple Pie': 0.48,\n",
       "  'Scrambled Eggs': 0.33,\n",
       "  'Turkey Bologna': 0.44999999999999996,\n",
       "  'Beef Frankfurter': 0.81,\n",
       "  'Chocolate Chip Cookies': 0.09},\n",
       " 17)"
      ]
     },
     "execution_count": 102,
     "metadata": {},
     "output_type": "execute_result"
    }
   ],
   "source": [
    "costs, len(costs)"
   ]
  },
  {
   "cell_type": "markdown",
   "id": "a99f509c",
   "metadata": {},
   "source": [
    "### Create a dictionary of calories for all food items\n"
   ]
  },
  {
   "cell_type": "code",
   "execution_count": 103,
   "id": "fcf34d89",
   "metadata": {},
   "outputs": [
    {
     "data": {
      "text/plain": [
       "{'Frozen Broccoli': 73.8,\n",
       " 'Frozen Corn': 72.2,\n",
       " 'Raw Lettuce Iceberg': 2.6,\n",
       " ' Baked Potatoes': 171.5,\n",
       " 'Tofu': 88.2,\n",
       " 'Roasted Chicken': 277.4,\n",
       " 'Spaghetti W/ Sauce': 358.2,\n",
       " 'Raw Apple': 81.4,\n",
       " 'Banana': 104.9,\n",
       " 'Wheat Bread': 65.0,\n",
       " 'White Bread': 65.0,\n",
       " 'Oatmeal Cookies': 81.0,\n",
       " 'Apple Pie': 67.2,\n",
       " 'Scrambled Eggs': 99.6,\n",
       " 'Turkey Bologna': 56.4,\n",
       " 'Beef Frankfurter': 141.8,\n",
       " 'Chocolate Chip Cookies': 78.1}"
      ]
     },
     "execution_count": 103,
     "metadata": {},
     "output_type": "execute_result"
    }
   ],
   "source": [
    "calories = dict(zip(food_items, df['Calories']))\n",
    "calories"
   ]
  },
  {
   "cell_type": "code",
   "execution_count": 104,
   "id": "1e0d9f29",
   "metadata": {},
   "outputs": [],
   "source": [
    "cholesterol = dict(zip(food_items,df['Cholesterol (mg)']))\n"
   ]
  },
  {
   "cell_type": "code",
   "execution_count": 105,
   "id": "5c28830a",
   "metadata": {},
   "outputs": [],
   "source": [
    "fat = dict(zip(food_items,df['Total_Fat (g)']))\n"
   ]
  },
  {
   "cell_type": "code",
   "execution_count": 106,
   "id": "1da53313",
   "metadata": {},
   "outputs": [],
   "source": [
    "sodium = dict(zip(food_items,df['Sodium (mg)']))\n"
   ]
  },
  {
   "cell_type": "code",
   "execution_count": 107,
   "id": "74f5d4b5",
   "metadata": {},
   "outputs": [],
   "source": [
    "carbs = dict(zip(food_items,df['Carbohydrates (g)']))\n"
   ]
  },
  {
   "cell_type": "code",
   "execution_count": 108,
   "id": "2ad597f6",
   "metadata": {},
   "outputs": [],
   "source": [
    "fiber = dict(zip(food_items,df['Dietary_Fiber (g)']))\n"
   ]
  },
  {
   "cell_type": "code",
   "execution_count": 109,
   "id": "5a887b40",
   "metadata": {},
   "outputs": [],
   "source": [
    "protein = dict(zip(food_items,df['Protein (g)']))\n"
   ]
  },
  {
   "cell_type": "code",
   "execution_count": 110,
   "id": "6c5adff0",
   "metadata": {},
   "outputs": [],
   "source": [
    "vit_A = dict(zip(food_items,df['Vit_A (IU)']))\n"
   ]
  },
  {
   "cell_type": "code",
   "execution_count": 111,
   "id": "9817c542",
   "metadata": {},
   "outputs": [],
   "source": [
    "vit_C = dict(zip(food_items,df['Vit_C (IU)']))\n"
   ]
  },
  {
   "cell_type": "code",
   "execution_count": 112,
   "id": "bb411b35",
   "metadata": {},
   "outputs": [],
   "source": [
    "calcium = dict(zip(food_items,df['Calcium (mg)']))\n"
   ]
  },
  {
   "cell_type": "code",
   "execution_count": 113,
   "id": "ad28afa7",
   "metadata": {},
   "outputs": [],
   "source": [
    "iron = dict(zip(food_items,df['Iron (mg)']))\n"
   ]
  },
  {
   "cell_type": "markdown",
   "id": "bd065912",
   "metadata": {},
   "source": [
    "### Create a dictionary of food items with lower bound\n"
   ]
  },
  {
   "cell_type": "code",
   "execution_count": 114,
   "id": "e2dd0bb4",
   "metadata": {},
   "outputs": [],
   "source": [
    "food_vars = LpVariable.dicts(\"Food\", food_items, 0, cat='Continuous')"
   ]
  },
  {
   "cell_type": "code",
   "execution_count": 115,
   "id": "0ddaa426",
   "metadata": {},
   "outputs": [
    {
     "data": {
      "text/plain": [
       "{'Frozen Broccoli': Food_Frozen_Broccoli,\n",
       " 'Frozen Corn': Food_Frozen_Corn,\n",
       " 'Raw Lettuce Iceberg': Food_Raw_Lettuce_Iceberg,\n",
       " ' Baked Potatoes': Food__Baked_Potatoes,\n",
       " 'Tofu': Food_Tofu,\n",
       " 'Roasted Chicken': Food_Roasted_Chicken,\n",
       " 'Spaghetti W/ Sauce': Food_Spaghetti_W__Sauce,\n",
       " 'Raw Apple': Food_Raw_Apple,\n",
       " 'Banana': Food_Banana,\n",
       " 'Wheat Bread': Food_Wheat_Bread,\n",
       " 'White Bread': Food_White_Bread,\n",
       " 'Oatmeal Cookies': Food_Oatmeal_Cookies,\n",
       " 'Apple Pie': Food_Apple_Pie,\n",
       " 'Scrambled Eggs': Food_Scrambled_Eggs,\n",
       " 'Turkey Bologna': Food_Turkey_Bologna,\n",
       " 'Beef Frankfurter': Food_Beef_Frankfurter,\n",
       " 'Chocolate Chip Cookies': Food_Chocolate_Chip_Cookies}"
      ]
     },
     "execution_count": 115,
     "metadata": {},
     "output_type": "execute_result"
    }
   ],
   "source": [
    "food_vars"
   ]
  },
  {
   "cell_type": "code",
   "execution_count": 116,
   "id": "d73230f6",
   "metadata": {},
   "outputs": [
    {
     "data": {
      "text/plain": [
       "Food_Tofu"
      ]
     },
     "execution_count": 116,
     "metadata": {},
     "output_type": "execute_result"
    }
   ],
   "source": [
    "food_vars['Tofu']"
   ]
  },
  {
   "cell_type": "markdown",
   "id": "107d4525",
   "metadata": {},
   "source": [
    "### Adding the objective function to the problem\n"
   ]
  },
  {
   "cell_type": "code",
   "execution_count": 117,
   "id": "be8a5cb0",
   "metadata": {},
   "outputs": [],
   "source": [
    "prob += lpSum([costs[i]*food_vars[i] for i in food_items]), \"Total Cost of the balanced diet\"\n"
   ]
  },
  {
   "cell_type": "markdown",
   "id": "6610e693",
   "metadata": {},
   "source": [
    "### Adding the calorie constraints to the problem\n"
   ]
  },
  {
   "cell_type": "code",
   "execution_count": 118,
   "id": "082d7e3a",
   "metadata": {},
   "outputs": [],
   "source": [
    "prob += lpSum([calories[i]*food_vars[i] for i in food_items]) >= 800.0, \"Calories Minimum\"\n",
    "prob += lpSum([calories[i]*food_vars[i] for i in food_items]) <= 1300.0, \"Calories Maximum\"\n",
    "\n"
   ]
  },
  {
   "cell_type": "code",
   "execution_count": 119,
   "id": "ff3027f7",
   "metadata": {},
   "outputs": [],
   "source": [
    "prob += lpSum([cholesterol[f] * food_vars[f] for f in food_items]) >= 30.0, \"CholesterolMinimum\"\n",
    "prob += lpSum([cholesterol[f] * food_vars[f] for f in food_items]) <= 240.0, \"CholesterolMaximum\"\n",
    "\n",
    "# Fat\n",
    "prob += lpSum([fat[f] * food_vars[f] for f in food_items]) >= 40.0, \"FatMinimum\"\n",
    "prob += lpSum([fat[f] * food_vars[f] for f in food_items]) <= 100.0, \"FatMaximum\"\n",
    "\n",
    "# Carbs\n",
    "prob += lpSum([carbs[f] * food_vars[f] for f in food_items]) >= 130.0, \"CarbsMinimum\"\n",
    "prob += lpSum([carbs[f] * food_vars[f] for f in food_items]) <= 450.0, \"CarbsMaximum\"\n",
    "\n",
    "# Fiber\n",
    "prob += lpSum([fiber[f] * food_vars[f] for f in food_items]) >= 125.0, \"FiberMinimum\"\n",
    "prob += lpSum([fiber[f] * food_vars[f] for f in food_items]) <= 250.0, \"FiberMaximum\"\n",
    "\n",
    "# Protein\n",
    "prob += lpSum([protein[f] * food_vars[f] for f in food_items]) >= 60.0, \"ProteinMinimum\"\n",
    "prob += lpSum([protein[f] * food_vars[f] for f in food_items]) <= 100.0, \"ProteinMaximum\"\n",
    "\n",
    "\n",
    "prob += lpSum([sodium[f] * food_vars[f] for f in food_items]) >= 500.0, \"SodiumMinimum\"\n",
    "prob += lpSum([sodium[f] * food_vars[f] for f in food_items]) <= 2000.0, \"SodiumMaximum\"\n",
    "\n",
    "# Vitamin A\n",
    "prob += lpSum([vit_A[f] * food_vars[f] for f in food_items]) >= 1000.0, \"VitaminAMinimum\"\n",
    "prob += lpSum([vit_A[f] * food_vars[f] for f in food_items]) <= 10000.0, \"VitaminAMaximum\"\n",
    "\n",
    "# Vitamin C\n",
    "prob += lpSum([vit_C[f] * food_vars[f] for f in food_items]) >= 400.0, \"VitaminCMinimum\" \n",
    "prob += lpSum([vit_C[f] * food_vars[f] for f in food_items]) <= 5000.0, \"VitaminCMaximum\"\n",
    "\n",
    "# Calcium\n",
    "prob += lpSum([calcium[f] * food_vars[f] for f in food_items]) >= 300.0, \"CalciumMinimum\"\n",
    "prob += lpSum([calcium[f] * food_vars[f] for f in food_items]) <= 1500.0, \"CalciumMaximum\"\n",
    "\n",
    "# Iron\n",
    "prob += lpSum([iron[f] * food_vars[f] for f in food_items]) >= 10.0, \"IronMinimum\"\n",
    "prob += lpSum([iron[f] * food_vars[f] for f in food_items]) <= 40.0, \"IronMaximum\"\n",
    "\n",
    "\n",
    "\n"
   ]
  },
  {
   "cell_type": "markdown",
   "id": "0f6833de",
   "metadata": {},
   "source": [
    "### Writing problem data to a .lp file\n"
   ]
  },
  {
   "cell_type": "code",
   "execution_count": 120,
   "id": "e3174280",
   "metadata": {},
   "outputs": [
    {
     "data": {
      "text/plain": [
       "[Food_Apple_Pie,\n",
       " Food_Banana,\n",
       " Food_Beef_Frankfurter,\n",
       " Food_Chocolate_Chip_Cookies,\n",
       " Food_Frozen_Broccoli,\n",
       " Food_Frozen_Corn,\n",
       " Food_Oatmeal_Cookies,\n",
       " Food_Raw_Apple,\n",
       " Food_Raw_Lettuce_Iceberg,\n",
       " Food_Roasted_Chicken,\n",
       " Food_Scrambled_Eggs,\n",
       " Food_Spaghetti_W__Sauce,\n",
       " Food_Tofu,\n",
       " Food_Turkey_Bologna,\n",
       " Food_Wheat_Bread,\n",
       " Food_White_Bread,\n",
       " Food__Baked_Potatoes]"
      ]
     },
     "execution_count": 120,
     "metadata": {},
     "output_type": "execute_result"
    }
   ],
   "source": [
    "prob.writeLP(\"SimpleDietProblem.lp\")"
   ]
  },
  {
   "cell_type": "markdown",
   "id": "2cbaf8b0",
   "metadata": {},
   "source": [
    "### Run the Solver"
   ]
  },
  {
   "cell_type": "code",
   "execution_count": 121,
   "id": "80160dcc",
   "metadata": {},
   "outputs": [
    {
     "data": {
      "text/plain": [
       "-1"
      ]
     },
     "execution_count": 121,
     "metadata": {},
     "output_type": "execute_result"
    }
   ],
   "source": [
    "prob.solve()"
   ]
  },
  {
   "cell_type": "markdown",
   "id": "f6bee701",
   "metadata": {},
   "source": [
    "### Print the problem solution status 'optimal', 'infeasible', 'unbounded' etc...\n"
   ]
  },
  {
   "cell_type": "code",
   "execution_count": 122,
   "id": "ff8c3bd8",
   "metadata": {},
   "outputs": [
    {
     "name": "stdout",
     "output_type": "stream",
     "text": [
      "Status: Infeasible\n"
     ]
    }
   ],
   "source": [
    "print (\"Status:\", LpStatus[prob.status])"
   ]
  },
  {
   "cell_type": "markdown",
   "id": "0b564c5f",
   "metadata": {},
   "source": [
    "## Scan through the problem variables and print out only if the variable quanity is positive i.e. it is included in the optimal solution\n",
    "\n"
   ]
  },
  {
   "cell_type": "code",
   "execution_count": 93,
   "id": "ab7006ee",
   "metadata": {},
   "outputs": [
    {
     "name": "stdout",
     "output_type": "stream",
     "text": [
      "Therefore, the optimal (least cost) balanced diet consists of\n",
      "--------------------------------------------------------------------------------------------------------------\n",
      "Food_Banana = 8.1638595\n",
      "Food_Beef_Frankfurter = 2.0663879\n",
      "Food_Frozen_Broccoli = 0.47128251\n",
      "Food_Raw_Apple = 9.6238095\n",
      "Food_Raw_Lettuce_Iceberg = 76.050837\n",
      "Food_Roasted_Chicken = 1.4525587\n",
      "Food_Tofu = 6.5516129\n",
      "Food__Baked_Potatoes = 5.1125313\n"
     ]
    }
   ],
   "source": [
    "print(\"Therefore, the optimal (least cost) balanced diet consists of\\n\"+\"-\"*110)\n",
    "for v in prob.variables():\n",
    "    if v.varValue>0:\n",
    "        print(v.name, \"=\", v.varValue)\n"
   ]
  },
  {
   "cell_type": "code",
   "execution_count": 94,
   "id": "6a7e1ab5",
   "metadata": {},
   "outputs": [],
   "source": [
    "### Print the optimal diet cost\n"
   ]
  },
  {
   "cell_type": "code",
   "execution_count": 96,
   "id": "433ceab7",
   "metadata": {},
   "outputs": [
    {
     "name": "stdout",
     "output_type": "stream",
     "text": [
      "The total cost of this balanced diet is: $21.97\n"
     ]
    }
   ],
   "source": [
    "print(f\"The total cost of this balanced diet is: ${round(value(prob.objective),2)}\")\n"
   ]
  },
  {
   "cell_type": "code",
   "execution_count": null,
   "id": "2ed574e4",
   "metadata": {},
   "outputs": [],
   "source": []
  }
 ],
 "metadata": {
  "kernelspec": {
   "display_name": "Python 3",
   "language": "python",
   "name": "python3"
  },
  "language_info": {
   "codemirror_mode": {
    "name": "ipython",
    "version": 3
   },
   "file_extension": ".py",
   "mimetype": "text/x-python",
   "name": "python",
   "nbconvert_exporter": "python",
   "pygments_lexer": "ipython3",
   "version": "3.8.8"
  }
 },
 "nbformat": 4,
 "nbformat_minor": 5
}
