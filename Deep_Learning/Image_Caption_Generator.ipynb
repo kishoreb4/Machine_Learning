{
 "cells": [
  {
   "cell_type": "code",
<<<<<<< HEAD
   "execution_count": 2,
   "id": "677438dd",
   "metadata": {},
   "outputs": [
    {
     "data": {
      "text/plain": [
       "'/Users/v0t00jq/Documents/Others/Machine_Learning/Deep_Learning'"
      ]
     },
     "execution_count": 2,
     "metadata": {},
     "output_type": "execute_result"
    }
   ],
   "source": [
    "import os\n",
    "os.getcwd()"
   ]
  },
  {
   "cell_type": "code",
   "execution_count": 3,
   "id": "b9931cc7",
   "metadata": {},
   "outputs": [],
   "source": [
    "base_dir = '/Users/v0t00jq/Documents/Others/Machine_Learning'"
   ]
  },
  {
   "cell_type": "code",
   "execution_count": 10,
   "id": "2ee09d73",
   "metadata": {},
   "outputs": [
    {
     "data": {
      "text/plain": [
       "['Flickr8k.lemma.token.txt',\n",
       " 'Flickr8k.token.txt',\n",
       " 'Flickr_8k.devImages.txt',\n",
       " 'Flickr_8k.testImages.txt',\n",
       " 'CrowdFlowerAnnotations.txt',\n",
       " 'readme.txt',\n",
       " 'ExpertAnnotations.txt',\n",
       " 'Flickr_8k.trainImages.txt']"
      ]
     },
     "execution_count": 10,
     "metadata": {},
     "output_type": "execute_result"
    }
   ],
   "source": [
    "os.listdir(base_dir+'/Datasets/Image_Generation/Flickr8k_text')"
   ]
  },
  {
   "cell_type": "code",
   "execution_count": 1,
   "id": "ef2b7bbe",
   "metadata": {},
   "outputs": [
    {
     "ename": "ImportError",
     "evalue": "cannot import name 'to_categorical' from 'keras.utils' (/Users/v0t00jq/opt/anaconda3/lib/python3.8/site-packages/keras/utils/__init__.py)",
     "output_type": "error",
     "traceback": [
      "\u001b[0;31m---------------------------------------------------------------------------\u001b[0m",
      "\u001b[0;31mImportError\u001b[0m                               Traceback (most recent call last)",
      "\u001b[0;32m<ipython-input-1-596b1d7cc253>\u001b[0m in \u001b[0;36m<module>\u001b[0;34m\u001b[0m\n\u001b[1;32m     23\u001b[0m \u001b[0;32mfrom\u001b[0m \u001b[0mkeras\u001b[0m\u001b[0;34m.\u001b[0m\u001b[0mapplications\u001b[0m\u001b[0;34m.\u001b[0m\u001b[0minception_v3\u001b[0m \u001b[0;32mimport\u001b[0m \u001b[0mpreprocess_input\u001b[0m\u001b[0;34m\u001b[0m\u001b[0;34m\u001b[0m\u001b[0m\n\u001b[1;32m     24\u001b[0m \u001b[0;32mfrom\u001b[0m \u001b[0mkeras\u001b[0m\u001b[0;34m.\u001b[0m\u001b[0mmodels\u001b[0m \u001b[0;32mimport\u001b[0m \u001b[0mModel\u001b[0m\u001b[0;34m\u001b[0m\u001b[0;34m\u001b[0m\u001b[0m\n\u001b[0;32m---> 25\u001b[0;31m \u001b[0;32mfrom\u001b[0m \u001b[0mkeras\u001b[0m\u001b[0;34m.\u001b[0m\u001b[0mutils\u001b[0m \u001b[0;32mimport\u001b[0m \u001b[0mto_categorical\u001b[0m\u001b[0;34m\u001b[0m\u001b[0;34m\u001b[0m\u001b[0m\n\u001b[0m",
      "\u001b[0;31mImportError\u001b[0m: cannot import name 'to_categorical' from 'keras.utils' (/Users/v0t00jq/opt/anaconda3/lib/python3.8/site-packages/keras/utils/__init__.py)"
     ]
    }
   ],
   "source": [
    "import numpy as np\n",
    "from numpy import array\n",
    "import matplotlib.pyplot as plt\n",
    "%matplotlib inline\n",
    "\n",
    "import string\n",
    "import os\n",
    "import glob\n",
    "from PIL import Image\n",
    "from time import time\n",
    "\n",
    "from keras import Input, layers\n",
    "from keras import optimizers\n",
    "from keras.optimizers import Adam\n",
    "from keras.preprocessing import sequence\n",
    "from keras.preprocessing import image\n",
    "from keras.preprocessing.text import Tokenizer\n",
    "from keras.preprocessing.sequence import pad_sequences\n",
    "from keras.layers import LSTM, Embedding, Dense, Activation, Flatten, Reshape, Dropout\n",
    "from keras.layers.wrappers import Bidirectional\n",
    "from keras.layers.merge import add\n",
    "from keras.applications.inception_v3 import InceptionV3\n",
    "from keras.applications.inception_v3 import preprocess_input\n",
    "from keras.models import Model\n",
    "from keras.utils import to_categorical"
   ]
  },
  {
   "cell_type": "code",
   "execution_count": 11,
   "id": "043ca141",
   "metadata": {},
   "outputs": [],
   "source": [
    "token_path = os.path.join(base_dir,'/Datasets/Image_Generation/Flickr8k_text/Flickr8k.token.txt')\n",
    "train_images_path = os.path.join(base_dir,'/Datasets/Image_Generation/Flickr8k_text/Flickr_8k.trainImages.txt')\n",
    "test_images_path = os.path.join(base_dir,'/Datasets/Image_Generation/Flickr8k_text/Flickr_8k.testImages.txt')\n",
    "images_path = os.path.join(base_dir,'/Datasets/Image_Generation/Images')\n",
    "glove_path = '../input/glove6b'"
   ]
  },
  {
   "cell_type": "code",
   "execution_count": null,
   "id": "b6c7da28",
   "metadata": {},
   "outputs": [],
   "source": [
    "doc = open(token_path,'r').read()\n",
    "print(doc[:410])"
   ]
  },
  {
   "cell_type": "code",
   "execution_count": null,
   "id": "69d7af51",
   "metadata": {},
   "outputs": [],
   "source": [
    "os.path.join(path, \"User/Desktop\", \"file.txt\")"
   ]
=======
   "execution_count": null,
   "id": "a290f2b5",
   "metadata": {},
   "outputs": [],
   "source": []
>>>>>>> 3477bb8933c188d03e93d592979251f95f766d24
  }
 ],
 "metadata": {
  "kernelspec": {
   "display_name": "Python 3",
   "language": "python",
   "name": "python3"
  },
  "language_info": {
   "codemirror_mode": {
    "name": "ipython",
    "version": 3
   },
   "file_extension": ".py",
   "mimetype": "text/x-python",
   "name": "python",
   "nbconvert_exporter": "python",
   "pygments_lexer": "ipython3",
   "version": "3.8.8"
  }
 },
 "nbformat": 4,
 "nbformat_minor": 5
}
