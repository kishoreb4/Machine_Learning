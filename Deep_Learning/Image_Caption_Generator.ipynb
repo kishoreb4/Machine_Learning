{
 "cells": [
  {
   "cell_type": "code",
   "execution_count": 2,
   "id": "273db4dd",
   "metadata": {},
   "outputs": [
    {
     "data": {
      "text/plain": [
       "'/Users/v0t00jq/Documents/Others/Machine_Learning/Deep_Learning'"
      ]
     },
     "execution_count": 2,
     "metadata": {},
     "output_type": "execute_result"
    }
   ],
   "source": [
    "import os\n",
    "os.getcwd()"
   ]
  },
  {
   "cell_type": "code",
   "execution_count": 3,
   "id": "19555cc9",
   "metadata": {},
   "outputs": [],
   "source": [
    "base_dir = '/Users/v0t00jq/Documents/Others/Machine_Learning'"
   ]
  },
  {
   "cell_type": "code",
   "execution_count": 10,
   "id": "139cc97d",
   "metadata": {},
   "outputs": [
    {
     "data": {
      "text/plain": [
       "['Flickr8k.lemma.token.txt',\n",
       " 'Flickr8k.token.txt',\n",
       " 'Flickr_8k.devImages.txt',\n",
       " 'Flickr_8k.testImages.txt',\n",
       " 'CrowdFlowerAnnotations.txt',\n",
       " 'readme.txt',\n",
       " 'ExpertAnnotations.txt',\n",
       " 'Flickr_8k.trainImages.txt']"
      ]
     },
     "execution_count": 10,
     "metadata": {},
     "output_type": "execute_result"
    }
   ],
   "source": [
    "os.listdir(base_dir+'/Datasets/Image_Generation/Flickr8k_text')"
   ]
  },
  {
   "cell_type": "code",
   "execution_count": 12,
   "id": "846da741",
   "metadata": {
    "scrolled": true
   },
   "outputs": [],
   "source": [
    "import numpy as np\n",
    "from numpy import array\n",
    "import matplotlib.pyplot as plt\n",
    "%matplotlib inline\n",
    "\n",
    "import string\n",
    "import os\n",
    "import glob\n",
    "from PIL import Image\n",
    "from time import time\n",
    "\n",
    "from keras import Input, layers\n",
    "from keras import optimizers\n",
    "from keras.optimizers import Adam\n",
    "from keras.preprocessing import sequence\n",
    "from keras.preprocessing import image\n",
    "from keras.preprocessing.text import Tokenizer\n",
    "from keras.preprocessing.sequence import pad_sequences\n",
    "from keras.layers import LSTM, Embedding, Dense, Activation, Flatten, Reshape, Dropout\n",
    "from keras.layers.wrappers import Bidirectional\n",
    "from keras.layers.merge import add\n",
    "from keras.applications.inception_v3 import InceptionV3\n",
    "from keras.applications.inception_v3 import preprocess_input\n",
    "from keras.models import Model\n",
    "# from keras.utils import to_categorical"
   ]
  },
  {
   "cell_type": "code",
   "execution_count": 11,
   "id": "9a173acb",
   "metadata": {},
   "outputs": [],
   "source": [
    "token_path = os.path.join(base_dir,'/Datasets/Image_Generation/Flickr8k_text/Flickr8k.token.txt')\n",
    "train_images_path = os.path.join(base_dir,'/Datasets/Image_Generation/Flickr8k_text/Flickr_8k.trainImages.txt')\n",
    "test_images_path = os.path.join(base_dir,'/Datasets/Image_Generation/Flickr8k_text/Flickr_8k.testImages.txt')\n",
    "images_path = os.path.join(base_dir,'/Datasets/Image_Generation/Images')\n",
    "glove_path = '../input/glove6b'"
   ]
  },
  {
   "cell_type": "code",
   "execution_count": null,
   "id": "611e3d98",
   "metadata": {},
   "outputs": [],
   "source": [
    "doc = open(token_path,'r').read()\n",
    "print(doc[:410])"
   ]
  },
  {
   "cell_type": "code",
   "execution_count": null,
   "id": "9c69d5b4",
   "metadata": {},
   "outputs": [],
   "source": [
    "os.path.join(path, \"User/Desktop\", \"file.txt\")"
   ]
  }
 ],
 "metadata": {
  "kernelspec": {
   "display_name": "Python 3",
   "language": "python",
   "name": "python3"
  },
  "language_info": {
   "codemirror_mode": {
    "name": "ipython",
    "version": 3
   },
   "file_extension": ".py",
   "mimetype": "text/x-python",
   "name": "python",
   "nbconvert_exporter": "python",
   "pygments_lexer": "ipython3",
   "version": "3.8.8"
  }
 },
 "nbformat": 4,
 "nbformat_minor": 5
}
