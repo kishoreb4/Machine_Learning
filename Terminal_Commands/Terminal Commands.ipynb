{
 "cells": [
  {
   "cell_type": "code",
   "execution_count": 1,
   "id": "3d7bcd96",
   "metadata": {},
   "outputs": [
    {
     "name": "stdout",
     "output_type": "stream",
     "text": [
      "Test file\r\n"
     ]
    }
   ],
   "source": [
    "#displays the file\n",
    "!cat test.txt "
   ]
  },
  {
   "cell_type": "code",
   "execution_count": 2,
   "id": "c1c5f5f1",
   "metadata": {},
   "outputs": [],
   "source": [
    "!touch sample.txt"
   ]
  },
  {
   "cell_type": "code",
   "execution_count": 7,
   "id": "551d2693",
   "metadata": {},
   "outputs": [
    {
     "name": "stdout",
     "output_type": "stream",
     "text": [
      "Test file[?1h\u001b=\n",
      "\u001b[K\u001b[7m(END)\u001b[m\u001b[K\u001b[m\u001b[K\u0007"
     ]
    }
   ],
   "source": [
    "!less test.txt"
   ]
  },
  {
   "cell_type": "code",
   "execution_count": 9,
   "id": "e9a63288",
   "metadata": {},
   "outputs": [
    {
     "name": "stdout",
     "output_type": "stream",
     "text": [
      "Test file\r\n"
     ]
    }
   ],
   "source": [
    "!head test.txt"
   ]
  },
  {
   "cell_type": "code",
   "execution_count": 10,
   "id": "7110f3b3",
   "metadata": {},
   "outputs": [
    {
     "name": "stdout",
     "output_type": "stream",
     "text": [
      "sample.txt test.txt\r\n"
     ]
    }
   ],
   "source": [
    "!ls *.txt"
   ]
  },
  {
   "cell_type": "code",
   "execution_count": null,
   "id": "a5635bfd",
   "metadata": {},
   "outputs": [],
   "source": []
  }
 ],
 "metadata": {
  "kernelspec": {
   "display_name": "Python 3",
   "language": "python",
   "name": "python3"
  },
  "language_info": {
   "codemirror_mode": {
    "name": "ipython",
    "version": 3
   },
   "file_extension": ".py",
   "mimetype": "text/x-python",
   "name": "python",
   "nbconvert_exporter": "python",
   "pygments_lexer": "ipython3",
   "version": "3.8.8"
  }
 },
 "nbformat": 4,
 "nbformat_minor": 5
}
